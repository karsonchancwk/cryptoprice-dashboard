{
 "cells": [
  {
   "cell_type": "code",
   "execution_count": 2,
   "metadata": {},
   "outputs": [],
   "source": [
    "import pandas as pd\n",
    "import glob"
   ]
  },
  {
   "cell_type": "code",
   "execution_count": 5,
   "metadata": {},
   "outputs": [
    {
     "data": {
      "text/plain": [
       "['.\\\\coin_Aave.csv',\n",
       " '.\\\\coin_BinanceCoin.csv',\n",
       " '.\\\\coin_Bitcoin.csv',\n",
       " '.\\\\coin_Cardano.csv',\n",
       " '.\\\\coin_ChainLink.csv',\n",
       " '.\\\\coin_Cosmos.csv',\n",
       " '.\\\\coin_CryptocomCoin.csv',\n",
       " '.\\\\coin_Dogecoin.csv',\n",
       " '.\\\\coin_EOS.csv',\n",
       " '.\\\\coin_Ethereum.csv',\n",
       " '.\\\\coin_Iota.csv',\n",
       " '.\\\\coin_Litecoin.csv',\n",
       " '.\\\\coin_Monero.csv',\n",
       " '.\\\\coin_NEM.csv',\n",
       " '.\\\\coin_Polkadot.csv',\n",
       " '.\\\\coin_Solana.csv',\n",
       " '.\\\\coin_Stellar.csv',\n",
       " '.\\\\coin_Tether.csv',\n",
       " '.\\\\coin_Tron.csv',\n",
       " '.\\\\coin_Uniswap.csv',\n",
       " '.\\\\coin_USDCoin.csv',\n",
       " '.\\\\coin_WrappedBitcoin.csv',\n",
       " '.\\\\coin_XRP.csv']"
      ]
     },
     "execution_count": 5,
     "metadata": {},
     "output_type": "execute_result"
    }
   ],
   "source": [
    "allFiles = glob.glob(\"./*.csv\")\n",
    "allFiles"
   ]
  },
  {
   "cell_type": "code",
   "execution_count": 32,
   "metadata": {},
   "outputs": [
    {
     "data": {
      "text/html": [
       "<div>\n",
       "<style scoped>\n",
       "    .dataframe tbody tr th:only-of-type {\n",
       "        vertical-align: middle;\n",
       "    }\n",
       "\n",
       "    .dataframe tbody tr th {\n",
       "        vertical-align: top;\n",
       "    }\n",
       "\n",
       "    .dataframe thead th {\n",
       "        text-align: right;\n",
       "    }\n",
       "</style>\n",
       "<table border=\"1\" class=\"dataframe\">\n",
       "  <thead>\n",
       "    <tr style=\"text-align: right;\">\n",
       "      <th></th>\n",
       "      <th>Symbol</th>\n",
       "      <th>Name</th>\n",
       "    </tr>\n",
       "  </thead>\n",
       "  <tbody>\n",
       "  </tbody>\n",
       "</table>\n",
       "</div>"
      ],
      "text/plain": [
       "Empty DataFrame\n",
       "Columns: [Symbol, Name]\n",
       "Index: []"
      ]
     },
     "execution_count": 32,
     "metadata": {},
     "output_type": "execute_result"
    }
   ],
   "source": [
    "Summary = pd.DataFrame({'Symbol':[],'Name':[]})\n",
    "Summary\n",
    "  "
   ]
  },
  {
   "cell_type": "code",
   "execution_count": 33,
   "metadata": {},
   "outputs": [
    {
     "name": "stdout",
     "output_type": "stream",
     "text": [
      "   Symbol             Name\n",
      "0    AAVE             Aave\n",
      "1     BNB     Binance Coin\n",
      "2     BTC          Bitcoin\n",
      "3     ADA          Cardano\n",
      "4    LINK        Chainlink\n",
      "5    ATOM           Cosmos\n",
      "6     CRO  Crypto.com Coin\n",
      "7    DOGE         Dogecoin\n",
      "8     EOS              EOS\n",
      "9     ETH         Ethereum\n",
      "10  MIOTA             IOTA\n",
      "11    LTC         Litecoin\n",
      "12    XMR           Monero\n",
      "13    XEM              NEM\n",
      "14    DOT         Polkadot\n",
      "15    SOL           Solana\n",
      "16    XLM          Stellar\n",
      "17   USDT           Tether\n",
      "18    TRX             TRON\n",
      "19    UNI          Uniswap\n",
      "20   USDC         USD Coin\n",
      "21   WBTC  Wrapped Bitcoin\n",
      "22    XRP              XRP\n"
     ]
    }
   ],
   "source": [
    "for filename in allFiles:\n",
    "  thisCSV = pd.read_csv(filename)\n",
    "  thisCSV.head()\n",
    "  Summary.loc[len(Summary)] = [thisCSV['Symbol'][0],thisCSV['Name'][0]]\n",
    "print(Summary)"
   ]
  },
  {
   "cell_type": "code",
   "execution_count": 43,
   "metadata": {},
   "outputs": [],
   "source": [
    "# Summary.to_json(orient ='records')\n",
    "f = open(\"summary.json\", \"w\")\n",
    "f.write(Summary.to_json(orient ='records'))\n",
    "\n",
    "f.close()"
   ]
  }
 ],
 "metadata": {
  "kernelspec": {
   "display_name": "Python 3",
   "language": "python",
   "name": "python3"
  },
  "language_info": {
   "codemirror_mode": {
    "name": "ipython",
    "version": 3
   },
   "file_extension": ".py",
   "mimetype": "text/x-python",
   "name": "python",
   "nbconvert_exporter": "python",
   "pygments_lexer": "ipython3",
   "version": "3.8.5"
  },
  "orig_nbformat": 4
 },
 "nbformat": 4,
 "nbformat_minor": 2
}
